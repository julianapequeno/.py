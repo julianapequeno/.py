{
 "cells": [
  {
   "cell_type": "markdown",
   "metadata": {},
   "source": [
    "**Learning Python | Map, Filter, ListComp, GenExp, Tuples, Nested Tuples,Pattern Matching...and more** <br>\n",
    "    - examples from 'Fluent Python' book - Chapter 2"
   ]
  },
  {
   "cell_type": "code",
   "execution_count": 1,
   "metadata": {},
   "outputs": [
    {
     "data": {
      "text/plain": [
       "['D', 'E', 'F', 'G']"
      ]
     },
     "execution_count": 1,
     "metadata": {},
     "output_type": "execute_result"
    }
   ],
   "source": [
    "symbols = 'ABCDEFG'\n",
    "\n",
    "beyond_ascii = [s for s in symbols if ord(s) > 67]\n",
    "beyond_ascii"
   ]
  },
  {
   "cell_type": "code",
   "execution_count": 2,
   "metadata": {},
   "outputs": [
    {
     "data": {
      "text/plain": [
       "[68, 69, 70, 71]"
      ]
     },
     "execution_count": 2,
     "metadata": {},
     "output_type": "execute_result"
    }
   ],
   "source": [
    "beyond_ascii = list(filter(lambda c: c > 67, map(ord,symbols)))\n",
    "beyond_ascii"
   ]
  },
  {
   "cell_type": "code",
   "execution_count": 3,
   "metadata": {},
   "outputs": [
    {
     "data": {
      "text/plain": [
       "[27, 28, 29]"
      ]
     },
     "execution_count": 3,
     "metadata": {},
     "output_type": "execute_result"
    }
   ],
   "source": [
    "from dataclasses import dataclass\n",
    "\n",
    "@dataclass\n",
    "class Person:\n",
    "    name: str\n",
    "    idade: int\n",
    "\n",
    "def retorna_idade_cada_pessoa(person: Person):\n",
    "    return person.idade\n",
    "\n",
    "lista_pessoas = [ Person('Juliana',c) for c in range(20,30)]\n",
    "lista_pessoas\n",
    "#map and filter\n",
    "lista_pessoas_apenas_com_mais_de_25 = list(filter(lambda o: o >= 25, map(retorna_idade_cada_pessoa,lista_pessoas))) \n",
    "lista_pessoas_apenas_com_mais_de_25\n",
    "lista_pessoas_apenas_com_mais_de_27 = list(filter(lambda o: o >= 27, lista_pessoas_apenas_com_mais_de_25)) \n",
    "lista_pessoas_apenas_com_mais_de_27"
   ]
  },
  {
   "cell_type": "code",
   "execution_count": 4,
   "metadata": {},
   "outputs": [],
   "source": [
    "import collections\n",
    "\n",
    "Card = collections.namedtuple('Card',['rank','color']) #giving name for a n-tuple\n",
    "\n",
    "CartaEB = Card('espadas','blue')"
   ]
  },
  {
   "cell_type": "code",
   "execution_count": 5,
   "metadata": {},
   "outputs": [
    {
     "data": {
      "text/plain": [
       "(65, 66, 67, 68, 69, 70, 71)"
      ]
     },
     "execution_count": 5,
     "metadata": {},
     "output_type": "execute_result"
    }
   ],
   "source": [
    "#genexp - generator expressions. Saves memory because just generates the elements os the list, doesnt save it\n",
    "\n",
    "tuple(ord(symbol) for symbol in symbols) #initializing a tuple from a genexp\n"
   ]
  },
  {
   "cell_type": "code",
   "execution_count": 6,
   "metadata": {},
   "outputs": [
    {
     "name": "stdout",
     "output_type": "stream",
     "text": [
      "black S\n",
      "black M\n",
      "black L\n",
      "white S\n",
      "white M\n",
      "white L\n"
     ]
    }
   ],
   "source": [
    "#using genexp in a for - Cartesian Product \n",
    "\n",
    "colors = ['black','white']\n",
    "sizes = ['S','M','L']\n",
    "\n",
    "for tshirt in (f'{c} {s}' for c in colors for s in sizes):\n",
    "    print(tshirt)"
   ]
  },
  {
   "cell_type": "markdown",
   "metadata": {},
   "source": [
    "Tuple Unpacking - % "
   ]
  },
  {
   "cell_type": "code",
   "execution_count": 7,
   "metadata": {},
   "outputs": [
    {
     "name": "stdout",
     "output_type": "stream",
     "text": [
      "BR - 21h30\n",
      "USA - 20h\n",
      "AUS - 22h\n",
      "CA - 19h23\n"
     ]
    }
   ],
   "source": [
    "flights_of_night = [('BR','21h30'),('USA','20h'),('AUS','22h'),('CA','19h23')]\n",
    "for flights_times in flights_of_night:\n",
    "    print('%s - %s' % flights_times)"
   ]
  },
  {
   "cell_type": "markdown",
   "metadata": {},
   "source": [
    "List and Tuples Methods"
   ]
  },
  {
   "cell_type": "code",
   "execution_count": 8,
   "metadata": {},
   "outputs": [
    {
     "name": "stdout",
     "output_type": "stream",
     "text": [
      "list before:  [2, 3, 4]\n"
     ]
    },
    {
     "data": {
      "text/plain": [
       "['a', 'b', 'c', 'd']"
      ]
     },
     "execution_count": 8,
     "metadata": {},
     "output_type": "execute_result"
    }
   ],
   "source": [
    "# Comparing Tuples and List Methods\n",
    "\n",
    "list_example = [1,2]\n",
    "list_example2 = [2,3,4]\n",
    "tuple_example = tuple([1,2])\n",
    "\n",
    "list_example.__iadd__(list_example2) #concat in-place\n",
    "\n",
    "tuple_example.__contains__(3) #if 3 in tuple_example\n",
    "tuple_example.count(1) # how many times does 1 appears in tuple_example\n",
    "\n",
    "list_example.__delitem__(0) #delete item at pos \n",
    "list_example.extend(tuple_example) #add iterable- tuple - at the list\n",
    "\n",
    "print('list before: ',list_example2)\n",
    "list2_multiplied_5_times = list_example2.__mul__(5) #multiply list n times and the concatenation\n",
    "#list_example2.__mul__(5)\n",
    "list_example2.__rmul__(4)\n",
    "\n",
    "list_string = ['a','c','d','b']\n",
    "\n",
    "def my_func(e):\n",
    "    return ord(e)\n",
    "\n",
    "list_string.sort(key=my_func, reverse=False) #sort(key, reverse) - key: function & reverse: True or False\n",
    "list_string"
   ]
  },
  {
   "cell_type": "markdown",
   "metadata": {},
   "source": [
    "Unpacking Tuples, Using * to grab excess"
   ]
  },
  {
   "cell_type": "code",
   "execution_count": 9,
   "metadata": {},
   "outputs": [],
   "source": [
    "a = 2\n",
    "b = 3\n",
    "a,b = b, a #an elegant way of unpacking\n"
   ]
  },
  {
   "cell_type": "code",
   "execution_count": 10,
   "metadata": {},
   "outputs": [
    {
     "data": {
      "text/plain": [
       "(2, 4)"
      ]
     },
     "execution_count": 10,
     "metadata": {},
     "output_type": "execute_result"
    }
   ],
   "source": [
    "t = (20,8)\n",
    "divmod(*t)\n",
    "quotient, remainder = divmod(*t)\n",
    "quotient, remainder"
   ]
  },
  {
   "cell_type": "code",
   "execution_count": 11,
   "metadata": {},
   "outputs": [
    {
     "data": {
      "text/plain": [
       "'id_juliana_01.pdf'"
      ]
     },
     "execution_count": 11,
     "metadata": {},
     "output_type": "execute_result"
    }
   ],
   "source": [
    "#another example, this one using a file name extraction from a link\n",
    "#Tuple - Unpacking\n",
    "import os\n",
    "_,file_name = os.path.split('/home/juliana/.ssh/id_juliana_01.pdf')\n",
    "file_name"
   ]
  },
  {
   "cell_type": "code",
   "execution_count": 12,
   "metadata": {},
   "outputs": [
    {
     "data": {
      "text/plain": [
       "('Antony Klaus',\n",
       " '20 years',\n",
       " 'Lives in USA',\n",
       " ['Antony has a beautiful story.....', 'He has a dog', 'Antony is married'],\n",
       " 'He is a doctor')"
      ]
     },
     "execution_count": 12,
     "metadata": {},
     "output_type": "execute_result"
    }
   ],
   "source": [
    "#Using * to grab excess items\n",
    "\n",
    "sentence = ['Antony Klaus','20 years','Lives in USA','Antony has a beautiful story.....','He has a dog','Antony is married','He is a doctor']\n",
    "\n",
    "name, age, country,*rest, profission = sentence\n",
    "name,age, country,rest,profission\n"
   ]
  },
  {
   "cell_type": "code",
   "execution_count": 13,
   "metadata": {},
   "outputs": [
    {
     "data": {
      "text/plain": [
       "(1, 'juliana', 'bookworm', ' student 1')"
      ]
     },
     "execution_count": 13,
     "metadata": {},
     "output_type": "execute_result"
    }
   ],
   "source": [
    "def fun(a,b,c,d,*rest):\n",
    "    return a,b,c,d\n",
    "\n",
    "fun(*[1,'juliana','bookworm'],' student 1',*[' she was amused with the....',32424,'4343'])"
   ]
  },
  {
   "cell_type": "code",
   "execution_count": 14,
   "metadata": {},
   "outputs": [
    {
     "data": {
      "text/plain": [
       "[0, 1, 2, 3, 4]"
      ]
     },
     "execution_count": 14,
     "metadata": {},
     "output_type": "execute_result"
    }
   ],
   "source": [
    "[*range(4),4]"
   ]
  },
  {
   "cell_type": "markdown",
   "metadata": {},
   "source": [
    "Nested Unpacking"
   ]
  },
  {
   "cell_type": "code",
   "execution_count": 5,
   "metadata": {},
   "outputs": [
    {
     "name": "stdout",
     "output_type": "stream",
     "text": [
      "               | CT |  latitude | longitude\n",
      "Tokyo          | JP |   35.6897 |  139.6917\n",
      "Delhi NCR      | IN |   28.6139 |   77.2089\n",
      "Mexico City    | MX |   19.4333 |  -99.1333\n",
      "New York-Newark| US |   40.8086 |  -74.0204\n",
      "São Paulo      | BR |  -23.5478 |  -46.6358\n"
     ]
    }
   ],
   "source": [
    "metro_areas = [\n",
    " ('Tokyo', 'JP', 36.933, (35.689722, 139.691667)),\n",
    " ('Delhi NCR', 'IN', 21.935, (28.613889, 77.208889)),\n",
    " ('Mexico City', 'MX', 20.142, (19.433333, -99.133333)),\n",
    " ('New York-Newark', 'US', 20.104, (40.808611, -74.020386)),\n",
    " ('São Paulo', 'BR', 19.649, (-23.547778, -46.635833)),\n",
    "]\n",
    "\n",
    "def main():\n",
    "    print(f'{\"\":15}| {\"CT\":>2} | {\"latitude\":>9} | {\"longitude\":>9}') #each field has a minimum number of length\n",
    "    for name, country,_,(lat,lon) in metro_areas:\n",
    "        #if lon <=0:\n",
    "        print(f'{name:15}| {country:2} | {lat:9.4f} | {lon:9.4f}')\n",
    "\n",
    "if __name__ == '__main__':\n",
    " main()\n",
    "    \n"
   ]
  },
  {
   "cell_type": "markdown",
   "metadata": {},
   "source": [
    "Pattern Matching "
   ]
  },
  {
   "cell_type": "code",
   "execution_count": 6,
   "metadata": {},
   "outputs": [
    {
     "name": "stdout",
     "output_type": "stream",
     "text": [
      "                |  latitude | longitude\n",
      "Mexico City     |   19.4333 |  -99.1333\n",
      "New York-Newark |   40.8086 |  -74.0204\n",
      "São Paulo       |  -23.5478 |  -46.6358\n"
     ]
    }
   ],
   "source": [
    "#requires python 3.10\n",
    "\n",
    "#same example, though using pattern matching\n",
    "metro_areas = [\n",
    " ('Tokyo', 'JP', 36.933, (35.689722, 139.691667)),\n",
    " ('Delhi NCR', 'IN', 21.935, (28.613889, 77.208889)),\n",
    " ('Mexico City', 'MX', 20.142, (19.433333, -99.133333)),\n",
    " ('New York-Newark', 'US', 20.104, (40.808611, -74.020386)),\n",
    " ('São Paulo', 'BR', 19.649, (-23.547778, -46.635833)),\n",
    "]\n",
    "\n",
    "def main():\n",
    " print(f'{\"\":15} | {\"latitude\":>9} | {\"longitude\":>9}')\n",
    " for record in metro_areas:\n",
    "    match record:\n",
    "        case [name, _, _, (lat, lon)] if lon <= 0:\n",
    "            print(f'{name:15} | {lat:9.4f} | {lon:9.4f}')\n",
    "\n",
    "if __name__ == '__main__':\n",
    " main()"
   ]
  }
 ],
 "metadata": {
  "kernelspec": {
   "display_name": "Python 3",
   "language": "python",
   "name": "python3"
  },
  "language_info": {
   "codemirror_mode": {
    "name": "ipython",
    "version": 3
   },
   "file_extension": ".py",
   "mimetype": "text/x-python",
   "name": "python",
   "nbconvert_exporter": "python",
   "pygments_lexer": "ipython3",
   "version": "3.10.2"
  }
 },
 "nbformat": 4,
 "nbformat_minor": 2
}
